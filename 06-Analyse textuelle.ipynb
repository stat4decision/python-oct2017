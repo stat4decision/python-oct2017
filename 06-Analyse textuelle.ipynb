{
 "cells": [
  {
   "cell_type": "markdown",
   "metadata": {},
   "source": [
    "# Analyse de données textuelles avec python"
   ]
  },
  {
   "cell_type": "markdown",
   "metadata": {},
   "source": [
    "Dans le cadre de ce notebook, nous allons analyser plusieurs jeux de données textuelles avec différentes approches :\n",
    "    - création d'un wordcloud\n",
    "    - extraction des mots\n",
    "    - exploration de données textuelles\n",
    "    - manipulation de dataframes pour les données textuelles\n",
    "    - création d'un classifieur en utilisant des données textuelles"
   ]
  },
  {
   "cell_type": "markdown",
   "metadata": {},
   "source": [
    "Pour toutes ces étapes, nous utiliserons de nombreuses bibliothèques dont principalement :\n",
    "    - nltk\n",
    "    - scikit-learn"
   ]
  },
  {
   "cell_type": "markdown",
   "metadata": {},
   "source": [
    "## Créer un wordcloud à partir de données"
   ]
  },
  {
   "cell_type": "markdown",
   "metadata": {},
   "source": [
    "On importe les bibliothèques nécessaires"
   ]
  },
  {
   "cell_type": "code",
   "execution_count": 4,
   "metadata": {
    "collapsed": true
   },
   "outputs": [],
   "source": [
    "import pandas as pd\n",
    "import sqlite3\n",
    "from sqlalchemy import create_engine\n",
    "from wordcloud import WordCloud\n",
    "from wordcloud import STOPWORDS\n",
    "import numpy as np\n",
    "import matplotlib.pyplot as plt\n",
    "%matplotlib inline"
   ]
  },
  {
   "cell_type": "markdown",
   "metadata": {},
   "source": [
    "On importe les données depuis une base sqlite\n",
    "\n",
    "Il s'agit des emails de Hilary Clinton"
   ]
  },
  {
   "cell_type": "code",
   "execution_count": 11,
   "metadata": {
    "collapsed": false
   },
   "outputs": [
    {
     "data": {
      "text/plain": [
       "['Aliases', 'EmailReceivers', 'Emails', 'Persons']"
      ]
     },
     "execution_count": 11,
     "metadata": {},
     "output_type": "execute_result"
    }
   ],
   "source": [
    "con = create_engine('sqlite:///database.sqlite')\n",
    "\n",
    "con.table_names()"
   ]
  },
  {
   "cell_type": "code",
   "execution_count": 13,
   "metadata": {
    "collapsed": false
   },
   "outputs": [],
   "source": [
    "emails=pd.read_sql_query(\"select * from Emails\",con)"
   ]
  },
  {
   "cell_type": "code",
   "execution_count": 15,
   "metadata": {
    "collapsed": false
   },
   "outputs": [
    {
     "name": "stdout",
     "output_type": "stream",
     "text": [
      "<class 'pandas.core.frame.DataFrame'>\n",
      "RangeIndex: 7945 entries, 0 to 7944\n",
      "Data columns (total 22 columns):\n",
      "Id                              7945 non-null int64\n",
      "DocNumber                       7945 non-null object\n",
      "MetadataSubject                 7945 non-null object\n",
      "MetadataTo                      7945 non-null object\n",
      "MetadataFrom                    7945 non-null object\n",
      "SenderPersonId                  7945 non-null object\n",
      "MetadataDateSent                7945 non-null object\n",
      "MetadataDateReleased            7945 non-null object\n",
      "MetadataPdfLink                 7945 non-null object\n",
      "MetadataCaseNumber              7945 non-null object\n",
      "MetadataDocumentClass           7945 non-null object\n",
      "ExtractedSubject                7945 non-null object\n",
      "ExtractedTo                     7945 non-null object\n",
      "ExtractedFrom                   7945 non-null object\n",
      "ExtractedCc                     7945 non-null object\n",
      "ExtractedDateSent               7945 non-null object\n",
      "ExtractedCaseNumber             7945 non-null object\n",
      "ExtractedDocNumber              7945 non-null object\n",
      "ExtractedDateReleased           7945 non-null object\n",
      "ExtractedReleaseInPartOrFull    7945 non-null object\n",
      "ExtractedBodyText               7945 non-null object\n",
      "RawText                         7945 non-null object\n",
      "dtypes: int64(1), object(21)\n",
      "memory usage: 1.3+ MB\n"
     ]
    }
   ],
   "source": [
    "emails.info()"
   ]
  },
  {
   "cell_type": "markdown",
   "metadata": {},
   "source": [
    "On met en commun tous les mots dans une grande chaîne de caractères"
   ]
  },
  {
   "cell_type": "code",
   "execution_count": 16,
   "metadata": {
    "collapsed": false,
    "scrolled": true
   },
   "outputs": [],
   "source": [
    "cs = \"\"\n",
    "for i in range(len(emails.ExtractedBodyText)):\n",
    "    cs += str(emails.ExtractedBodyText[i])\n"
   ]
  },
  {
   "cell_type": "markdown",
   "metadata": {},
   "source": [
    "On construit le nuage avec la fonction associée en se débarassant des stopwords"
   ]
  },
  {
   "cell_type": "code",
   "execution_count": 24,
   "metadata": {
    "collapsed": false
   },
   "outputs": [
    {
     "data": {
      "text/plain": [
       "<matplotlib.image.AxesImage at 0x1fbc4a846d8>"
      ]
     },
     "execution_count": 24,
     "metadata": {},
     "output_type": "execute_result"
    },
    {
     "data": {
      "image/png": "[encoded data removed]",
      "text/plain": [
       "<matplotlib.figure.Figure at 0x1fbc43e2198>"
      ]
     },
     "metadata": {},
     "output_type": "display_data"
    }
   ],
   "source": [
    "wc = WordCloud(background_color=\"white\", max_words=200, stopwords=STOPWORDS)\n",
    "wc.generate(cs)\n",
    "wc.to_file(\"wc.png\")\n",
    "plt.imshow(wc)"
   ]
  },
  {
   "cell_type": "markdown",
   "metadata": {},
   "source": [
    "## Quelques bases en traitement des données textuelles"
   ]
  },
  {
   "cell_type": "markdown",
   "metadata": {},
   "source": [
    "Pour commencer, on importe les bibliothèques dont on aura besoin dans cet exemple"
   ]
  },
  {
   "cell_type": "code",
   "execution_count": 80,
   "metadata": {
    "collapsed": false
   },
   "outputs": [
    {
     "name": "stdout",
     "output_type": "stream",
     "text": [
      "J'ai bien importé nltk et string\n"
     ]
    }
   ],
   "source": [
    "# On utilise la bibliothèque nltk qui est la référence en terme de traitement de données textuelles\n",
    "from nltk.tokenize import word_tokenize\n",
    "from nltk.corpus import stopwords\n",
    "from nltk import ngrams\n",
    "from nltk.stem import PorterStemmer\n",
    "import string\n",
    "print(\"J'ai bien importé nltk et string\")"
   ]
  },
  {
   "cell_type": "code",
   "execution_count": 81,
   "metadata": {
    "collapsed": false
   },
   "outputs": [
    {
     "name": "stdout",
     "output_type": "stream",
     "text": [
      "J'ai bien importé matplotlib\n"
     ]
    }
   ],
   "source": [
    "# On utilise ensuite une bibliothèque de data visualisation matplotlib\n",
    "import matplotlib.pyplot as plt\n",
    "%matplotlib inline\n",
    "print(\"J'ai bien importé matplotlib\")"
   ]
  },
  {
   "cell_type": "markdown",
   "metadata": {
    "collapsed": false
   },
   "source": [
    "Les étapes pour explorer des données textuelles :\n",
    "    1. Charger les données\n",
    "    2. Tokeniser\n",
    "    3. Compter\n",
    "    4. Eliminer les stopwords\n",
    "    5. Normalisation du texte\n",
    "    6. Utilisation des n-grams (suite de n mots)"
   ]
  },
  {
   "cell_type": "markdown",
   "metadata": {},
   "source": [
    "On compte le nombre de mots"
   ]
  },
  {
   "cell_type": "code",
   "execution_count": 82,
   "metadata": {
    "collapsed": false
   },
   "outputs": [
    {
     "name": "stdout",
     "output_type": "stream",
     "text": [
      "Nombre total de tokens: 30506\n"
     ]
    }
   ],
   "source": [
    "from nltk.tokenize import word_tokenize\n",
    "\n",
    "all_tokens = [t for t in word_tokenize(cs)]\n",
    "\n",
    "print(\"Nombre total de tokens: {}\".format(len(all_tokens)))"
   ]
  },
  {
   "cell_type": "markdown",
   "metadata": {},
   "source": [
    "On vérifie la fréquence des mots"
   ]
  },
  {
   "cell_type": "code",
   "execution_count": 83,
   "metadata": {
    "collapsed": false
   },
   "outputs": [
    {
     "name": "stdout",
     "output_type": "stream",
     "text": [
      ".\t1621\n",
      ",\t1308\n",
      "the\t1206\n",
      "to\t764\n",
      "and\t753\n",
      "of\t737\n",
      "in\t437\n",
      "a\t359\n",
      "that\t349\n",
      ":\t258\n",
      "is\t245\n",
      "our\t220\n",
      "No\t213\n",
      "we\t212\n",
      "TO\t211\n",
      "for\t205\n",
      "'s\t183\n",
      "on\t166\n",
      "State\t163\n",
      "with\t163\n"
     ]
    }
   ],
   "source": [
    "from collections import Counter\n",
    "\n",
    "total_term_frequency = Counter(all_tokens)\n",
    "\n",
    "for word, freq in total_term_frequency.most_common(20):\n",
    "    print(\"{}\\t{}\".format(word, freq))"
   ]
  },
  {
   "cell_type": "markdown",
   "metadata": {},
   "source": [
    "On voit qu'il y a un certain nombre de termes posant problème"
   ]
  },
  {
   "cell_type": "markdown",
   "metadata": {},
   "source": [
    "Il s'agit de la ponctuation et des stopword"
   ]
  },
  {
   "cell_type": "code",
   "execution_count": 84,
   "metadata": {
    "collapsed": false
   },
   "outputs": [
    {
     "name": "stdout",
     "output_type": "stream",
     "text": [
      "['i', 'me', 'my', 'myself', 'we', 'our', 'ours', 'ourselves', 'you', 'your', 'yours', 'yourself', 'yourselves', 'he', 'him', 'his', 'himself', 'she', 'her', 'hers', 'herself', 'it', 'its', 'itself', 'they', 'them', 'their', 'theirs', 'themselves', 'what', 'which', 'who', 'whom', 'this', 'that', 'these', 'those', 'am', 'is', 'are', 'was', 'were', 'be', 'been', 'being', 'have', 'has', 'had', 'having', 'do', 'does', 'did', 'doing', 'a', 'an', 'the', 'and', 'but', 'if', 'or', 'because', 'as', 'until', 'while', 'of', 'at', 'by', 'for', 'with', 'about', 'against', 'between', 'into', 'through', 'during', 'before', 'after', 'above', 'below', 'to', 'from', 'up', 'down', 'in', 'out', 'on', 'off', 'over', 'under', 'again', 'further', 'then', 'once', 'here', 'there', 'when', 'where', 'why', 'how', 'all', 'any', 'both', 'each', 'few', 'more', 'most', 'other', 'some', 'such', 'no', 'nor', 'not', 'only', 'own', 'same', 'so', 'than', 'too', 'very', 's', 't', 'can', 'will', 'just', 'don', 'should', 'now', 'd', 'll', 'm', 'o', 're', 've', 'y', 'ain', 'aren', 'couldn', 'didn', 'doesn', 'hadn', 'hasn', 'haven', 'isn', 'ma', 'mightn', 'mustn', 'needn', 'shan', 'shouldn', 'wasn', 'weren', 'won', 'wouldn']\n",
      "153\n",
      "!\"#$%&'()*+,-./:;<=>?@[\\]^_`{|}~\n"
     ]
    }
   ],
   "source": [
    "from nltk.corpus import stopwords\n",
    "import string\n",
    "\n",
    "print(stopwords.words('english'))\n",
    "print(len(stopwords.words('english')))\n",
    "print(string.punctuation)"
   ]
  },
  {
   "cell_type": "code",
   "execution_count": 85,
   "metadata": {
    "collapsed": false
   },
   "outputs": [
    {
     "name": "stdout",
     "output_type": "stream",
     "text": [
      "'s\t183\n",
      "State\t163\n",
      "Department\t156\n",
      "U.S.\t153\n",
      "Case\t106\n",
      "HOUSE\t106\n",
      "BENGHAZI\t106\n",
      "F-2015-04841\t105\n",
      "Doc\t105\n",
      "Date\t105\n",
      "05/13/2015\t105\n",
      "STATE\t105\n",
      "DEPT\t105\n",
      "PRODUCED\t105\n",
      "SELECT\t105\n",
      "COMM\t105\n",
      "SUBJECT\t105\n",
      "AGREEMENT\t105\n",
      "SENSITIVE\t105\n",
      "INFORMATION\t105\n"
     ]
    }
   ],
   "source": [
    "#on va donc supprimer la ponctuation et les stopwords\n",
    "stop_list = stopwords.words('english') + list(string.punctuation)\n",
    "\n",
    "tokens_no_stop = [token for token in all_tokens\n",
    "                        if token.lower() not in stop_list]\n",
    "\n",
    "total_term_frequency_no_stop = Counter(tokens_no_stop)\n",
    "\n",
    "for word, freq in total_term_frequency_no_stop.most_common(20):\n",
    "    print(\"{}\\t{}\".format(word, freq))"
   ]
  },
  {
   "cell_type": "markdown",
   "metadata": {},
   "source": [
    "On veut normaliser le texte un peu plus"
   ]
  },
  {
   "cell_type": "code",
   "execution_count": 86,
   "metadata": {
    "collapsed": false
   },
   "outputs": [
    {
     "name": "stdout",
     "output_type": "stream",
     "text": [
      "state\t356\n",
      "'s\t183\n",
      "depart\t182\n",
      "benghazi\t160\n",
      "u.s.\t153\n",
      "hous\t136\n",
      "inform\t122\n",
      "subject\t117\n",
      "case\t113\n",
      "agreement\t110\n",
      "produc\t108\n",
      "sensit\t108\n",
      "redact\t106\n",
      "f-2015-04841\t105\n",
      "doc\t105\n",
      "date\t105\n",
      "05/13/2015\t105\n",
      "dept\t105\n",
      "select\t105\n",
      "comm\t105\n"
     ]
    }
   ],
   "source": [
    "from nltk.stem import PorterStemmer\n",
    "\n",
    "stemmer = PorterStemmer()\n",
    "all_tokens_lower = [t.lower() for t in all_tokens]\n",
    "\n",
    "tokens_normalised = [stemmer.stem(t) for t in all_tokens_lower\n",
    "                                     if t not in stop_list]\n",
    "\n",
    "total_term_frequency_normalised = Counter(tokens_normalised)\n",
    "\n",
    "for word, freq in total_term_frequency_normalised.most_common(20):\n",
    "    print(\"{}\\t{}\".format(word, freq))"
   ]
  },
  {
   "cell_type": "markdown",
   "metadata": {},
   "source": [
    "### Une autre approche : l'utilisation d'un dataframe"
   ]
  },
  {
   "cell_type": "markdown",
   "metadata": {},
   "source": [
    "On peut aussi travailler sur le DataFrame complet"
   ]
  },
  {
   "cell_type": "code",
   "execution_count": 18,
   "metadata": {
    "collapsed": false
   },
   "outputs": [],
   "source": [
    "extr2 = pd.read_sql_query(\"Select * From Emails\",con)"
   ]
  },
  {
   "cell_type": "markdown",
   "metadata": {},
   "source": [
    "On crée une nouvelle variable"
   ]
  },
  {
   "cell_type": "code",
   "execution_count": 32,
   "metadata": {
    "collapsed": false
   },
   "outputs": [],
   "source": [
    "extr2[\"WithPresident\"]=np.where(extr2[\"ExtractedBodyText\"].str.count(\"President\")>0,1,0)"
   ]
  },
  {
   "cell_type": "code",
   "execution_count": 27,
   "metadata": {
    "collapsed": false
   },
   "outputs": [
    {
     "data": {
      "text/plain": [
       "0    7363\n",
       "1     582\n",
       "Name: WithPresident, dtype: int64"
      ]
     },
     "execution_count": 27,
     "metadata": {},
     "output_type": "execute_result"
    }
   ],
   "source": [
    "extr2[\"WithPresident\"].value_counts()"
   ]
  },
  {
   "cell_type": "markdown",
   "metadata": {},
   "source": [
    "On crée une seconde variable"
   ]
  },
  {
   "cell_type": "code",
   "execution_count": 28,
   "metadata": {
    "collapsed": true
   },
   "outputs": [],
   "source": [
    "extr2['length'] = extr2['ExtractedBodyText'].apply(len)"
   ]
  },
  {
   "cell_type": "code",
   "execution_count": 30,
   "metadata": {
    "collapsed": false
   },
   "outputs": [
    {
     "data": {
      "text/plain": [
       "count     7945.000000\n",
       "mean       452.433103\n",
       "std       2442.636470\n",
       "min          0.000000\n",
       "25%          7.000000\n",
       "50%         59.000000\n",
       "75%        165.000000\n",
       "max      78834.000000\n",
       "Name: length, dtype: float64"
      ]
     },
     "execution_count": 30,
     "metadata": {},
     "output_type": "execute_result"
    }
   ],
   "source": [
    "extr2['length'].describe()"
   ]
  },
  {
   "cell_type": "markdown",
   "metadata": {},
   "source": [
    "### On peut représenter des histogrammes"
   ]
  },
  {
   "cell_type": "code",
   "execution_count": 33,
   "metadata": {
    "collapsed": false,
    "scrolled": true
   },
   "outputs": [
    {
     "data": {
      "text/plain": [
       "array([<matplotlib.axes._subplots.AxesSubplot object at 0x000001FEFDEF2B00>,\n",
       "       <matplotlib.axes._subplots.AxesSubplot object at 0x000001FEFDF7CB70>], dtype=object)"
      ]
     },
     "execution_count": 33,
     "metadata": {},
     "output_type": "execute_result"
    },
    {
     "data": {
      "image/png": "[encoded data removed]",
      "text/plain": [
       "<matplotlib.figure.Figure at 0x1fefdf14d68>"
      ]
     },
     "metadata": {},
     "output_type": "display_data"
    }
   ],
   "source": [
    "extr2.hist(column='length', by='WithPresident', bins=50,figsize=(10,4))"
   ]
  },
  {
   "cell_type": "markdown",
   "metadata": {},
   "source": [
    "## Les n-grams"
   ]
  },
  {
   "cell_type": "markdown",
   "metadata": {},
   "source": [
    "Une autre approche est de travailler sur des n-grams"
   ]
  },
  {
   "cell_type": "code",
   "execution_count": 35,
   "metadata": {
    "collapsed": false
   },
   "outputs": [
    {
     "name": "stdout",
     "output_type": "stream",
     "text": [
      "('u.s.', 'department', 'of')\t105\n",
      "('case', 'no', '.')\t105\n",
      "('no', '.', 'f-2015-04841')\t105\n",
      "('.', 'f-2015-04841', 'doc')\t105\n",
      "('f-2015-04841', 'doc', 'no')\t105\n",
      "('doc', 'no', '.')\t105\n",
      "('date', ':', '05/13/2015')\t105\n",
      "('state', 'dept', '.')\t105\n",
      "('dept', '.', '-')\t105\n",
      "('.', '-', 'produced')\t105\n",
      "('-', 'produced', 'to')\t105\n",
      "('produced', 'to', 'house')\t105\n",
      "('to', 'house', 'select')\t105\n",
      "('house', 'select', 'benghazi')\t105\n",
      "('select', 'benghazi', 'comm')\t105\n",
      "('benghazi', 'comm', '.')\t105\n",
      "('subject', 'to', 'agreement')\t105\n",
      "('to', 'agreement', 'on')\t105\n",
      "('agreement', 'on', 'sensitive')\t105\n",
      "('on', 'sensitive', 'information')\t105\n"
     ]
    }
   ],
   "source": [
    "from nltk import ngrams\n",
    "\n",
    "phrases = Counter(ngrams(all_tokens_lower, 3))\n",
    "for phrase, freq in phrases.most_common(20):\n",
    "    print(\"{}\\t{}\".format(phrase, freq))"
   ]
  },
  {
   "cell_type": "markdown",
   "metadata": {},
   "source": [
    "On peut aussi le faire sans les stopwords"
   ]
  },
  {
   "cell_type": "code",
   "execution_count": 37,
   "metadata": {
    "collapsed": false
   },
   "outputs": [
    {
     "name": "stdout",
     "output_type": "stream",
     "text": [
      "('Case', 'F-2015-04841', 'Doc')\t105\n",
      "('STATE', 'DEPT', 'PRODUCED')\t105\n",
      "('DEPT', 'PRODUCED', 'HOUSE')\t105\n",
      "('PRODUCED', 'HOUSE', 'SELECT')\t105\n",
      "('HOUSE', 'SELECT', 'BENGHAZI')\t105\n",
      "('SELECT', 'BENGHAZI', 'COMM')\t105\n",
      "('SUBJECT', 'AGREEMENT', 'SENSITIVE')\t105\n",
      "('AGREEMENT', 'SENSITIVE', 'INFORMATION')\t105\n",
      "('SENSITIVE', 'INFORMATION', 'REDACTIONS')\t105\n",
      "('INFORMATION', 'REDACTIONS', 'FOIA')\t105\n",
      "('REDACTIONS', 'FOIA', 'WAIVER')\t105\n",
      "('U.S.', 'Department', 'State')\t104\n",
      "('Department', 'State', 'Case')\t104\n",
      "('State', 'Case', 'F-2015-04841')\t104\n",
      "('Date', '05/13/2015', 'STATE')\t102\n",
      "('05/13/2015', 'STATE', 'DEPT')\t102\n",
      "('BENGHAZI', 'COMM', 'SUBJECT')\t102\n",
      "('COMM', 'SUBJECT', 'AGREEMENT')\t102\n",
      "('F-2015-04841', 'Doc', 'C05739812')\t49\n",
      "('Doc', 'C05739812', 'Date')\t49\n"
     ]
    }
   ],
   "source": [
    "phrases = Counter(ngrams(tokens_no_stop, 3))\n",
    "\n",
    "for phrase, freq in phrases.most_common(20):\n",
    "    print(\"{}\\t{}\".format(phrase, freq))"
   ]
  },
  {
   "cell_type": "markdown",
   "metadata": {},
   "source": [
    "## Utilisation du machine learning"
   ]
  },
  {
   "cell_type": "markdown",
   "metadata": {},
   "source": [
    "Essayons de construire un premier classifieur pour les emails\n",
    "\n",
    "On utilise scikit-learn et un modèle du type SVM\n",
    "\n",
    "On va essayer de prédire si un SMS est un spam ou non"
   ]
  },
  {
   "cell_type": "code",
   "execution_count": 48,
   "metadata": {
    "collapsed": true
   },
   "outputs": [],
   "source": [
    "from sklearn.feature_extraction.text import TfidfVectorizer\n",
    "from sklearn.svm import LinearSVC"
   ]
  },
  {
   "cell_type": "markdown",
   "metadata": {},
   "source": [
    "On récupère les données"
   ]
  },
  {
   "cell_type": "code",
   "execution_count": 51,
   "metadata": {
    "collapsed": false
   },
   "outputs": [
    {
     "data": {
      "text/html": [
       "<div>\n",
       "<style>\n",
       "    .dataframe thead tr:only-child th {\n",
       "        text-align: right;\n",
       "    }\n",
       "\n",
       "    .dataframe thead th {\n",
       "        text-align: left;\n",
       "    }\n",
       "\n",
       "    .dataframe tbody tr th {\n",
       "        vertical-align: top;\n",
       "    }\n",
       "</style>\n",
       "<table border=\"1\" class=\"dataframe\">\n",
       "  <thead>\n",
       "    <tr style=\"text-align: right;\">\n",
       "      <th></th>\n",
       "      <th>label</th>\n",
       "      <th>message</th>\n",
       "    </tr>\n",
       "  </thead>\n",
       "  <tbody>\n",
       "    <tr>\n",
       "      <th>0</th>\n",
       "      <td>ham</td>\n",
       "      <td>Go until jurong point, crazy.. Available only ...</td>\n",
       "    </tr>\n",
       "    <tr>\n",
       "      <th>1</th>\n",
       "      <td>ham</td>\n",
       "      <td>Ok lar... Joking wif u oni...</td>\n",
       "    </tr>\n",
       "    <tr>\n",
       "      <th>2</th>\n",
       "      <td>spam</td>\n",
       "      <td>Free entry in 2 a wkly comp to win FA Cup fina...</td>\n",
       "    </tr>\n",
       "    <tr>\n",
       "      <th>3</th>\n",
       "      <td>ham</td>\n",
       "      <td>U dun say so early hor... U c already then say...</td>\n",
       "    </tr>\n",
       "    <tr>\n",
       "      <th>4</th>\n",
       "      <td>ham</td>\n",
       "      <td>Nah I don't think he goes to usf, he lives aro...</td>\n",
       "    </tr>\n",
       "  </tbody>\n",
       "</table>\n",
       "</div>"
      ],
      "text/plain": [
       "  label                                            message\n",
       "0   ham  Go until jurong point, crazy.. Available only ...\n",
       "1   ham                      Ok lar... Joking wif u oni...\n",
       "2  spam  Free entry in 2 a wkly comp to win FA Cup fina...\n",
       "3   ham  U dun say so early hor... U c already then say...\n",
       "4   ham  Nah I don't think he goes to usf, he lives aro..."
      ]
     },
     "execution_count": 51,
     "metadata": {},
     "output_type": "execute_result"
    }
   ],
   "source": [
    "messages = pd.read_csv('SMSSpamCollection', sep='\\t',\n",
    "                           names=[\"label\", \"message\"])\n",
    "messages.head()"
   ]
  },
  {
   "cell_type": "code",
   "execution_count": 52,
   "metadata": {
    "collapsed": true
   },
   "outputs": [],
   "source": [
    "from sklearn.model_selection import train_test_split"
   ]
  },
  {
   "cell_type": "markdown",
   "metadata": {},
   "source": [
    "On divise les données apprentissage / test"
   ]
  },
  {
   "cell_type": "code",
   "execution_count": 53,
   "metadata": {
    "collapsed": true
   },
   "outputs": [],
   "source": [
    "x_train, x_test, y_train, y_test = train_test_split(messages[\"message\"],messages[\"label\"], test_size=0.2)"
   ]
  },
  {
   "cell_type": "markdown",
   "metadata": {},
   "source": [
    "On utilise une méthode classique de traitement de données textuelles\n",
    "TF-IDF term frequency-inverse document frequency\n",
    "Il s'agit d'une méthode de feature extraction qui permet d'extraire des fréquences à partir de textes\n",
    "TF fréquence du mot dans le texte\n",
    "IDF importance du mot dans le corpus complet\n"
   ]
  },
  {
   "cell_type": "code",
   "execution_count": 54,
   "metadata": {
    "collapsed": true
   },
   "outputs": [],
   "source": [
    "vectorizer = TfidfVectorizer()\n",
    "vectorised_train_data = vectorizer.fit_transform(x_train)\n",
    "vectorised_test_data = vectorizer.transform(x_test)"
   ]
  },
  {
   "cell_type": "markdown",
   "metadata": {},
   "source": [
    "On crée un modèle de classification, ici SVM"
   ]
  },
  {
   "cell_type": "code",
   "execution_count": 55,
   "metadata": {
    "collapsed": false
   },
   "outputs": [
    {
     "data": {
      "text/plain": [
       "LinearSVC(C=1.0, class_weight=None, dual=True, fit_intercept=True,\n",
       "     intercept_scaling=1, loss='squared_hinge', max_iter=1000,\n",
       "     multi_class='ovr', penalty='l2', random_state=None, tol=0.0001,\n",
       "     verbose=0)"
      ]
     },
     "execution_count": 55,
     "metadata": {},
     "output_type": "execute_result"
    }
   ],
   "source": [
    "classifier = LinearSVC()\n",
    "classifier.fit(vectorised_train_data, y_train)"
   ]
  },
  {
   "cell_type": "code",
   "execution_count": 57,
   "metadata": {
    "collapsed": false
   },
   "outputs": [],
   "source": [
    "from sklearn.metrics import recall_score, confusion_matrix"
   ]
  },
  {
   "cell_type": "code",
   "execution_count": 90,
   "metadata": {
    "collapsed": false
   },
   "outputs": [
    {
     "data": {
      "text/plain": [
       "array([[970,   7],\n",
       "       [  0, 138]])"
      ]
     },
     "execution_count": 90,
     "metadata": {},
     "output_type": "execute_result"
    }
   ],
   "source": [
    "#on affiche la matrice de confusion\n",
    "confusion_matrix(classifier.predict(vectorised_test_data),y_test)"
   ]
  },
  {
   "cell_type": "markdown",
   "metadata": {},
   "source": [
    "On a créé un classifieur qui semble assez efficace"
   ]
  },
  {
   "cell_type": "markdown",
   "metadata": {},
   "source": [
    "Essayez avec un random forrest"
   ]
  },
  {
   "cell_type": "code",
   "execution_count": 91,
   "metadata": {
    "collapsed": true
   },
   "outputs": [],
   "source": [
    "from sklearn.ensemble import RandomForestClassifier"
   ]
  },
  {
   "cell_type": "markdown",
   "metadata": {},
   "source": [
    "..."
   ]
  }
 ],
 "metadata": {
  "kernelspec": {
   "display_name": "Python 3",
   "language": "python",
   "name": "python3"
  },
  "language_info": {
   "codemirror_mode": {
    "name": "ipython",
    "version": 3
   },
   "file_extension": ".py",
   "mimetype": "text/x-python",
   "name": "python",
   "nbconvert_exporter": "python",
   "pygments_lexer": "ipython3",
   "version": "3.6.2"
  }
 },
 "nbformat": 4,
 "nbformat_minor": 2
}
